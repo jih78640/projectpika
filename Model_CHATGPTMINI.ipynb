{
 "cells": [
  {
   "cell_type": "code",
   "execution_count": 1,
   "metadata": {},
   "outputs": [
    {
     "name": "stderr",
     "output_type": "stream",
     "text": [
      "c:\\Users\\RMARKET\\anaconda3\\envs\\langchain\\Lib\\site-packages\\tqdm\\auto.py:21: TqdmWarning: IProgress not found. Please update jupyter and ipywidgets. See https://ipywidgets.readthedocs.io/en/stable/user_install.html\n",
      "  from .autonotebook import tqdm as notebook_tqdm\n"
     ]
    },
    {
     "data": {
      "text/plain": [
       "True"
      ]
     },
     "execution_count": 1,
     "metadata": {},
     "output_type": "execute_result"
    }
   ],
   "source": [
    "import google.generativeai as genai\n",
    "import os\n",
    "from dotenv import load_dotenv\n",
    "from openai import OpenAI\n",
    "# .env 파일 로드\n",
    "load_dotenv()"
   ]
  },
  {
   "cell_type": "code",
   "execution_count": 2,
   "metadata": {},
   "outputs": [
    {
     "name": "stdout",
     "output_type": "stream",
     "text": [
      "API Key loaded successfully!\n"
     ]
    }
   ],
   "source": [
    "# 환경 변수에서 GPT API 키 가져오기\n",
    "api_key = os.getenv(\"GPT_API_KEY\")\n",
    "\n",
    "if api_key:\n",
    "    print(\"API Key loaded successfully!\")\n",
    "else:\n",
    "    print(\"API Key not found!\")"
   ]
  },
  {
   "cell_type": "code",
   "execution_count": 3,
   "metadata": {},
   "outputs": [],
   "source": [
    "os.environ[\"OPENAI_API_KEY\"] = api_key\n",
    "client = OpenAI()"
   ]
  },
  {
   "cell_type": "code",
   "execution_count": 5,
   "metadata": {},
   "outputs": [],
   "source": [
    "from operator import itemgetter\n",
    "from langchain.memory import ConversationBufferMemory\n",
    "from langchain_core.prompts import ChatPromptTemplate, MessagesPlaceholder\n",
    "from langchain_core.runnables import RunnableLambda, RunnablePassthrough\n",
    "from langchain_openai import ChatOpenAI"
   ]
  },
  {
   "cell_type": "code",
   "execution_count": 6,
   "metadata": {},
   "outputs": [],
   "source": [
    "import json\n",
    "import os\n",
    "path = \"chat_history_chatgptmini.json\"\n",
    "# 대화 기록 로드 함수\n",
    "def load_history():\n",
    "    if os.path.exists(path):\n",
    "        with open(path, \"r\", encoding = \"utf-8\") as file:\n",
    "            return json.load(file)\n",
    "    return [{\"role\" : \"system\", \"content\" : \"당신은 친절한 화장품 안내 가이드입니다\"}]\n",
    "# 대화 기록 저장 함수\n",
    "def save_history(messages):\n",
    "    with open(path, \"w\", encoding = \"utf-8\",) as file:\n",
    "        json.dump(messages, file, ensure_ascii = False, indent = 4)\n",
    "# gpt 모델 호출 함수\n",
    "def get_completion_from_messages(messages, temperature = 1):\n",
    "    response = client.chat.completions.create(\n",
    "        model = \"gpt-4o-mini\",\n",
    "        messages = messages,\n",
    "        temperature = temperature\n",
    "    )\n",
    "    return response.choices[0].message.content"
   ]
  },
  {
   "cell_type": "code",
   "execution_count": 12,
   "metadata": {},
   "outputs": [
    {
     "name": "stdout",
     "output_type": "stream",
     "text": [
      "안녕하세요! 화장품 추천 가이드입니다. 피부타입(건성, 지성, 복합성)을 알려주세요\n",
      "챗봇:건성 피부를 가지고 계시군요! 건성 피부는 수분과 유분이 부족하여 건조함, 각질, 가려움증 등의 문제가 발생할 수 있습니다. 이를 고려한 화장품과 관리 방법을 몇 가지 추천해 드릴게요.\n",
      "\n",
      "1. **세안제**: 순한 크림 타입의 세안제를 선택해 피부를 부드럽게 클렌징하세요. 지나치게 자극적인 성분이 없는 제품이 좋습니다.\n",
      "\n",
      "2. **토너**: 수분을 공급해주는 수분 촉촉한 토너를 사용하세요. 알코올이 없는 것을 선택해 자극을 줄이는 것이 좋습니다.\n",
      "\n",
      "3. **에센스 또는 앰플**: 히알루론산, 판테놀, 세라마이드 등 보습 성분이 포함된 제품을 사용해 피부에 영양과 수분을 충전하세요.\n",
      "\n",
      "4. **수분크림**: 리치한 텍스처의 크림을 선택하여 피부를 깊숙이 보습해주는 것이 중요합니다. 오일이나 바셀린 성분이 포함된 제품이 좋습니다.\n",
      "\n",
      "5. **선크림**: 자외선 차단제는 반드시 사용하세요. 보습 성분이 포함된 크림 타입의 선크림을 추천합니다.\n",
      "\n",
      "6. **마스크**: 주 1-2회 수분 공급에 특화된 마스크를 사용하는 것도 좋습니다. 시트 마스크나 크림 마스크를 활용해보세요.\n",
      "\n",
      "7. **각질 제거**: 주기적으로 부드러운 스크럽이나 화학적 각질 제거제(AHA나 BHA)를 사용해주시면 좋습니다. 다만, 지나치게 자주 사용하지 않도록 주의하세요.\n",
      "\n",
      "필요한 제품이나 더 궁금한 점이 있으시면 언제든지 말씀해 주세요!\n",
      "대화를 종료합니다.\n"
     ]
    }
   ],
   "source": [
    "messages = load_history()\n",
    "print('안녕하세요! 화장품 추천 가이드입니다. 피부타입(건성, 지성, 복합성)을 알려주세요')\n",
    "while True:\n",
    "    user_input = input('사용자: ')\n",
    "    if user_input.lower() in ['exit', 'quit', '종료', '나가기']:\n",
    "        print('대화를 종료합니다.')\n",
    "        save_history(messages)\n",
    "        break\n",
    "\n",
    "    messages.append({'role': 'user', 'content': user_input})\n",
    "\n",
    "    assistant_response = get_completion_from_messages(messages)\n",
    "    messages.append({'role':'assistant', 'content' : assistant_response})\n",
    "    print(f'챗봇:{assistant_response}')"
   ]
  },
  {
   "cell_type": "code",
   "execution_count": null,
   "metadata": {},
   "outputs": [],
   "source": []
  }
 ],
 "metadata": {
  "kernelspec": {
   "display_name": "langchain",
   "language": "python",
   "name": "python3"
  },
  "language_info": {
   "codemirror_mode": {
    "name": "ipython",
    "version": 3
   },
   "file_extension": ".py",
   "mimetype": "text/x-python",
   "name": "python",
   "nbconvert_exporter": "python",
   "pygments_lexer": "ipython3",
   "version": "3.11.10"
  }
 },
 "nbformat": 4,
 "nbformat_minor": 2
}
